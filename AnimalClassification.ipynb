{
 "cells": [
  {
   "cell_type": "markdown",
   "metadata": {},
   "source": [
    "# Standard Bank Tech Impact Challenge: Animal classification\n",
    "\n",
    "The objective of this challenge is to create a machine learning model to accurately predict the likelihood that an image contains a zebra, as opposed to an elephant. While this may be an easy task for humans, elephants, and zebras, your computer will find it a bit more difficult.\n",
    "\n",
    "The total dataset contains 13,999 images of zebras and elephants, sampled from the Snapshot Serengeti collection of more than 6 million animals.\n",
    "\n",
    "Your task is to predict whether a given image contains a zebra or elephant. For each unique image ID in the test set you should estimate the likelihood that the image contains a zebra or elephant, with an estimated probability value between 0 and 1. A value of 1 represents a zebra and 0 represents an elephant. These images do not contain both simultaneously. It is therefore only a binary classification task."
   ]
  },
  {
   "cell_type": "markdown",
   "metadata": {},
   "source": [
    "# The dataset\n",
    "You are given 13,999 photos each with a unique identifier. The data is given in jpeg format. Each photo has already been resized to 330x330 pixels.\n",
    "\n",
    "<br>\n",
    "\n",
    "### The dataset is structured as follows:\n",
    " - ID 0 - 6,999 are all elephants.\n",
    " - ID 7,000 - 13,999 are zebras.\n",
    " \n",
    "<br>\n",
    "\n",
    "### Training set (size: 10,000):\n",
    " - ID 0 - 5,000 as well as \n",
    " - ID 7,000 - 12,000\n",
    "\n",
    "### Validation set (size: 2,000):\n",
    " - ID 5,000 - 5,999 as well as \n",
    " - ID 12,000 - 12,999\n",
    "\n",
    "### Test set (size: 2,000):\n",
    " - ID 6,000 - 6,999 as well as \n",
    " - ID 13,000 - 13,999\n",
    "\n",
    "<br>\n",
    "The data has already been divided into the respective folders. You must write code to load the data in accordingly.\n"
   ]
  },
  {
   "cell_type": "markdown",
   "metadata": {},
   "source": [
    "# Marking Criteria\n",
    "\n",
    "There are multiple ways one can tackle the problem. It is up to you to decide and motivate your decisions. You are not limited to using any specific methods or models.\n",
    "\n",
    "Motivate all of your steps taken in completing the task at hand, this includes but is not limited to:\n",
    "- Exploring the data\n",
    "- Data augmentation\n",
    "- Preprocessing the data\n",
    "- Choosing the right machine learning model(s)\n",
    "- Tuning the model(s)\n",
    "- Performance assessment of the model(s)\n",
    "\n",
    "Make sure to add your thoughts and motivations behind your decision making as well as the outcome thereof in markdown cells.\n",
    "\n",
    "**Your commentary will be more valuable than the performance of the model itself.**\n",
    "\n",
    "Remeber to label all graphs and keep your notebook neat."
   ]
  },
  {
   "cell_type": "markdown",
   "metadata": {},
   "source": [
    "# Make sure to include an Accuracy score of you final model on the test set.\n",
    "You may choose any other additional criteria you want to evaluate you final model on."
   ]
  },
  {
   "cell_type": "markdown",
   "metadata": {},
   "source": [
    "**----------------------------------------------------------------------------------------------------------------------------------------------------------------**"
   ]
  },
  {
   "cell_type": "markdown",
   "metadata": {},
   "source": [
    "**----------------------------------------------------------------------------------------------------------------------------------------------------------------**"
   ]
  },
  {
   "cell_type": "markdown",
   "metadata": {},
   "source": [
    "# **Zebra or Elephant Classification Project**"
   ]
  },
  {
   "cell_type": "markdown",
   "metadata": {},
   "source": [
    "All necessary imports"
   ]
  },
  {
   "cell_type": "code",
   "execution_count": 138,
   "metadata": {},
   "outputs": [],
   "source": [
    "import numpy as np\n",
    "import matplotlib.pyplot as plt\n",
    "import os\n",
    "import random\n",
    "import cv2\n",
    "\n",
    "from skimage import io,color\n",
    "from skimage.transform import resize\n",
    "\n",
    "from keras.models import Sequential\n",
    "from keras.layers import Dense, Conv2D, Flatten, MaxPool2D\n",
    "\n",
    "from sklearn.preprocessing import Normalizer\n"
   ]
  },
  {
   "cell_type": "markdown",
   "metadata": {},
   "source": [
    "Create training set"
   ]
  },
  {
   "cell_type": "code",
   "execution_count": 141,
   "metadata": {},
   "outputs": [],
   "source": [
    "category_train_dir_labels = ['Elephant_train', 'Zebra_train']\n",
    "category_valid_dir_labels = ['Elephant_valid', 'Zebra_valid']\n",
    "category_test_dir_labels = ['Elephant_test', 'Zebra_test']\n",
    "\n",
    "train_directory =r'data/train/'\n",
    "valid_directory =r'data/valid/'\n",
    "test_directory =r'data/test/'\n",
    "\n",
    "labels = ['elephant','zebra']\n",
    "# x = cv2.resize(cv2.imread(\"data/train/Elephant_train/IMG0_elephant\"),(330,330))\n",
    "# plt.imshow(x)\n",
    "\n",
    "train_data = []\n",
    "\n",
    "for category_label in category_train_dir_labels:\n",
    "    folder = os.path.join(train_directory,category_label)\n",
    "    label=category_train_dir_labels.index(category_label)\n",
    "    \n",
    "    for img in os.listdir(folder):\n",
    "        img_path=os.path.join(folder,img)\n",
    "        img_arr =color.rgb2gray(resize(io.imread(img_path),(100,100)))     \n",
    "        train_data.append([img_arr,label])\n",
    "\n",
    "\n"
   ]
  },
  {
   "cell_type": "markdown",
   "metadata": {},
   "source": [
    "Create Validation set"
   ]
  },
  {
   "cell_type": "code",
   "execution_count": 142,
   "metadata": {},
   "outputs": [],
   "source": [
    "valid_data = []\n",
    "for category_label in category_valid_dir_labels:\n",
    "    folder = os.path.join(valid_directory,category_label)\n",
    "    label=category_valid_dir_labels.index(category_label)\n",
    "    \n",
    "    for img in os.listdir(folder):\n",
    "        \n",
    "        img_path=os.path.join(folder,img)\n",
    "        # img_arr =cv2.resize(cv2.imread(img_path),(330,330))\n",
    "        img_arr = color.rgb2gray(resize(io.imread(img_path),(100,100)))\n",
    "        valid_data.append([img_arr,label])\n",
    "\n"
   ]
  },
  {
   "cell_type": "markdown",
   "metadata": {},
   "source": [
    "Create Test set"
   ]
  },
  {
   "cell_type": "code",
   "execution_count": 143,
   "metadata": {},
   "outputs": [],
   "source": [
    "test_data = []\n",
    "for category_label in category_test_dir_labels:\n",
    "    folder = os.path.join(test_directory,category_label)\n",
    "    label=category_test_dir_labels.index(category_label)\n",
    "    \n",
    "    for img in os.listdir(folder):\n",
    "        img_path=os.path.join(folder,img)\n",
    "        img_arr =color.rgb2gray(resize(io.imread(img_path),(100,100)))\n",
    "        \n",
    "        test_data.append([img_arr,label])\n"
   ]
  },
  {
   "cell_type": "markdown",
   "metadata": {},
   "source": [
    "Shuffle the sets so that they are in random order"
   ]
  },
  {
   "cell_type": "code",
   "execution_count": 144,
   "metadata": {},
   "outputs": [],
   "source": [
    "random.seed(2022)\n",
    "random.shuffle(train_data)\n",
    "random.shuffle(test_data)\n",
    "random.shuffle(valid_data)\n"
   ]
  },
  {
   "cell_type": "markdown",
   "metadata": {},
   "source": [
    "Create numpy arrays of all X and y sets"
   ]
  },
  {
   "cell_type": "code",
   "execution_count": 145,
   "metadata": {},
   "outputs": [],
   "source": [
    "X_train = []\n",
    "y_train = []\n",
    "for feature, label in train_data:\n",
    "    X_train.append(feature)\n",
    "    y_train.append(label)\n",
    "\n",
    "X_valid = []\n",
    "y_valid = []\n",
    "for feature, label in valid_data:\n",
    "    X_valid.append(feature)\n",
    "    y_valid.append(label)\n",
    "\n",
    "X_test = []\n",
    "y_test = []\n",
    "for feature, label in test_data:\n",
    "    X_test.append(feature)\n",
    "    y_test.append(label)\n",
    "\n",
    "X_train = np.array(X_train)\n",
    "y_train = np.array(y_train)\n",
    "\n",
    "X_valid = np.array(X_valid)\n",
    "y_valid = np.array(y_valid)\n",
    "\n",
    "X_test = np.array(X_test)\n",
    "y_test = np.array(y_test)\n"
   ]
  },
  {
   "cell_type": "code",
   "execution_count": 146,
   "metadata": {},
   "outputs": [
    {
     "data": {
      "image/png": "[encoded data removed]",
      "text/plain": [
       "<Figure size 432x288 with 1 Axes>"
      ]
     },
     "metadata": {
      "needs_background": "light"
     },
     "output_type": "display_data"
    },
    {
     "data": {
      "text/plain": [
       "(2000, 100, 100)"
      ]
     },
     "execution_count": 146,
     "metadata": {},
     "output_type": "execute_result"
    }
   ],
   "source": [
    "plt.imshow(X_train[41],cmap=plt.cm.gray)\n",
    "plt.show()\n",
    "len(X_train)\n",
    "X_valid.shape"
   ]
  },
  {
   "cell_type": "markdown",
   "metadata": {},
   "source": [
    "Make a function to create a Model"
   ]
  },
  {
   "cell_type": "code",
   "execution_count": 147,
   "metadata": {},
   "outputs": [
    {
     "name": "stdout",
     "output_type": "stream",
     "text": [
      "Epoch 1/10\n",
      "157/157 [==============================] - 76s 483ms/step - loss: 0.3819 - accuracy: 0.8204 - val_loss: 0.2824 - val_accuracy: 0.8840\n",
      "Epoch 2/10\n",
      "157/157 [==============================] - 83s 527ms/step - loss: 0.2290 - accuracy: 0.9149 - val_loss: 0.2197 - val_accuracy: 0.9175\n",
      "Epoch 3/10\n",
      "157/157 [==============================] - 87s 553ms/step - loss: 0.1654 - accuracy: 0.9408 - val_loss: 0.1828 - val_accuracy: 0.9270\n",
      "Epoch 4/10\n",
      "157/157 [==============================] - 107s 680ms/step - loss: 0.1255 - accuracy: 0.9524 - val_loss: 0.1573 - val_accuracy: 0.9415\n",
      "Epoch 5/10\n",
      "157/157 [==============================] - 97s 619ms/step - loss: 0.0893 - accuracy: 0.9694 - val_loss: 0.1426 - val_accuracy: 0.9435\n",
      "Epoch 6/10\n",
      "157/157 [==============================] - 107s 680ms/step - loss: 0.0696 - accuracy: 0.9751 - val_loss: 0.1393 - val_accuracy: 0.9500\n",
      "Epoch 7/10\n",
      "157/157 [==============================] - 103s 651ms/step - loss: 0.0508 - accuracy: 0.9834 - val_loss: 0.1379 - val_accuracy: 0.9560\n",
      "Epoch 8/10\n",
      "157/157 [==============================] - 103s 654ms/step - loss: 0.0338 - accuracy: 0.9888 - val_loss: 0.1518 - val_accuracy: 0.9545\n",
      "Epoch 9/10\n",
      "157/157 [==============================] - 100s 640ms/step - loss: 0.0199 - accuracy: 0.9945 - val_loss: 0.1256 - val_accuracy: 0.9635\n",
      "Epoch 10/10\n",
      "157/157 [==============================] - 92s 585ms/step - loss: 0.0235 - accuracy: 0.9921 - val_loss: 0.1487 - val_accuracy: 0.9585\n"
     ]
    },
    {
     "data": {
      "text/plain": [
       "<keras.callbacks.History at 0x1901a5cb9a0>"
      ]
     },
     "execution_count": 147,
     "metadata": {},
     "output_type": "execute_result"
    }
   ],
   "source": [
    "def createModel():\n",
    "    model = Sequential()\n",
    "    \n",
    "    model.add(Conv2D(32,(3,3),activation='relu',padding='same', input_shape = (100,100,1)))\n",
    "    model.add(MaxPool2D((2,2)))\n",
    "    model.add(Conv2D(32,(3,3),activation='relu',padding='same', input_shape = (100,100,1)))\n",
    "    model.add(MaxPool2D((2,2)))\n",
    "    model.add(Flatten())\n",
    "    model.add(Dense(64, activation='relu'))\n",
    "    model.add(Dense(1,activation='sigmoid'))\n",
    "\n",
    "    model.compile(optimizer='adam', loss = 'binary_crossentropy', metrics = ['accuracy'])\n",
    "\n",
    "    return model\n",
    "\n",
    "model = createModel()\n",
    "model.fit(X_train,y_train, epochs = 10,validation_data=(X_valid,y_valid), batch_size=64)\n",
    "\n",
    "\n"
   ]
  },
  {
   "cell_type": "code",
   "execution_count": 148,
   "metadata": {},
   "outputs": [
    {
     "name": "stdout",
     "output_type": "stream",
     "text": [
      "63/63 [==============================] - 3s 44ms/step - loss: 0.1604 - accuracy: 0.9555\n"
     ]
    },
    {
     "data": {
      "text/plain": [
       "[0.1603652387857437, 0.9555000066757202]"
      ]
     },
     "execution_count": 148,
     "metadata": {},
     "output_type": "execute_result"
    }
   ],
   "source": [
    "model.evaluate(X_test,y_test)"
   ]
  },
  {
   "cell_type": "code",
   "execution_count": 156,
   "metadata": {},
   "outputs": [
    {
     "data": {
      "text/plain": [
       "0.9980902841897498"
      ]
     },
     "execution_count": 156,
     "metadata": {},
     "output_type": "execute_result"
    }
   ],
   "source": [
    "\n"
   ]
  }
 ],
 "metadata": {
  "kernelspec": {
   "display_name": "Python 3.9.1 64-bit",
   "language": "python",
   "name": "python3"
  },
  "language_info": {
   "codemirror_mode": {
    "name": "ipython",
    "version": 3
   },
   "file_extension": ".py",
   "mimetype": "text/x-python",
   "name": "python",
   "nbconvert_exporter": "python",
   "pygments_lexer": "ipython3",
   "version": "3.9.1"
  },
  "vscode": {
   "interpreter": {
    "hash": "7a14979e061517ff8db1e3d4e5b2588024b75be1831ccaffba4da2ed3a779201"
   }
  }
 },
 "nbformat": 4,
 "nbformat_minor": 2
}
