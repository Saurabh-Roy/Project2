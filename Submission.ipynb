{
 "cells": [
  {
   "cell_type": "markdown",
   "id": "1ae2ce94",
   "metadata": {},
   "source": [
    "# Data Analysis\n",
    "The data will be loaded into three sets upon which our analysis will take place, namely the training, validation and test sets. Each of the models will be fit on the training data and their respective accuracies will calculated by how close the model's predictions come to the validation set. The test set is reserved for comparing different models with each other to ultimately choose the best model.\n",
    "\n",
    "A sample plot of the images will be created so that we may get a sense of the input data for this image classification problem."
   ]
  },
  {
   "cell_type": "code",
   "execution_count": 1,
   "id": "3d319796",
   "metadata": {},
   "outputs": [],
   "source": [
    "# read in images\n",
    "# create t, v, t, sets\n",
    "# display samples"
   ]
  },
  {
   "cell_type": "markdown",
   "id": "580756ea",
   "metadata": {},
   "source": [
    "There were 13999 images with unique identifiers. Each image is 330x330 pixels and are in full colour.\n",
    "The images were split as follows:\n",
    "\n",
    "    Elephants:\n",
    "        Training:     0 - 5000\n",
    "        Validation:   5000 - 5999\n",
    "        Testing:      60000 - 6999\n",
    "        \n",
    "    Zebras:\n",
    "        Trainging:    7000 - 11999\n",
    "        Validation:   12000 - 12999\n",
    "        Testing:      13000 - 13999\n",
    "\n",
    "A sample of these images were plotted to get a sense of the dataset, specifically its dimensions and colour characteristics."
   ]
  },
  {
   "cell_type": "markdown",
   "id": "80bd586f",
   "metadata": {},
   "source": [
    "# Data Augmentation\n",
    "The "
   ]
  },
  {
   "cell_type": "code",
   "execution_count": null,
   "id": "93bda46e",
   "metadata": {},
   "outputs": [],
   "source": []
  }
 ],
 "metadata": {
  "kernelspec": {
   "display_name": "Python 3 (ipykernel)",
   "language": "python",
   "name": "python3"
  },
  "language_info": {
   "codemirror_mode": {
    "name": "ipython",
    "version": 3
   },
   "file_extension": ".py",
   "mimetype": "text/x-python",
   "name": "python",
   "nbconvert_exporter": "python",
   "pygments_lexer": "ipython3",
   "version": "3.7.13"
  }
 },
 "nbformat": 4,
 "nbformat_minor": 5
}
